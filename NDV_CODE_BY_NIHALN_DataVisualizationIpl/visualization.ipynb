{
 "cells": [
  {
   "cell_type": "markdown",
   "id": "602992e3",
   "metadata": {},
   "source": [
    "# 🎨 Assignment 3: Data Visualization on IPL Dataset\n",
    "\n",
    "**Objective:**  \n",
    "Create an interactive data visualization dashboard using Matplotlib and Seaborn. The dashboard will enable users to explore the IPL dataset (2008-2024) by filtering seasons, teams, and venues, and generate insightful visualizations.\n",
    "\n",
    "**Dataset:**  \n",
    "IPL Dataset (matches and deliveries data) from Kaggle.\n",
    "\n",
    "**Key Steps:**\n",
    "✅ Load and preprocess the data  \n",
    "✅ Handle missing values  \n",
    "✅ Implement filter functionality  \n",
    "✅ Visualize key insights with bar charts, line plots, pie charts, etc.  \n",
    "✅ Calculate and display dynamic summary statistics  \n",
    "\n",
    "Let’s bring the IPL data to life! 🏏\n"
   ]
  },
  {
   "cell_type": "code",
   "execution_count": 1,
   "id": "e002961f",
   "metadata": {},
   "outputs": [],
   "source": [
    "import pandas as pd\n",
    "import matplotlib.pyplot as plt\n",
    "import seaborn as sns\n",
    "import ipywidgets as widgets\n",
    "from IPython.display import display, clear_output\n",
    "\n",
    "sns.set(style='whitegrid')\n"
   ]
  },
  {
   "cell_type": "code",
   "execution_count": 2,
   "id": "915188be",
   "metadata": {},
   "outputs": [
    {
     "name": "stdout",
     "output_type": "stream",
     "text": [
      "Matches columns: ['id', 'season', 'city', 'date', 'match_type', 'player_of_match', 'venue', 'team1', 'team2', 'toss_winner', 'toss_decision', 'winner', 'result', 'result_margin', 'target_runs', 'target_overs', 'super_over', 'method', 'umpire1', 'umpire2']\n",
      "Deliveries columns: ['match_id', 'inning', 'batting_team', 'bowling_team', 'over', 'ball', 'batter', 'bowler', 'non_striker', 'batsman_runs', 'extra_runs', 'total_runs', 'extras_type', 'is_wicket', 'player_dismissed', 'dismissal_kind', 'fielder']\n"
     ]
    }
   ],
   "source": [
    "matches = pd.read_csv('matches.csv')\n",
    "deliveries = pd.read_csv('deliveries.csv')\n",
    "\n",
    "print(\"Matches columns:\", matches.columns.tolist())\n",
    "print(\"Deliveries columns:\", deliveries.columns.tolist())\n"
   ]
  },
  {
   "cell_type": "code",
   "execution_count": 4,
   "id": "f6c94474",
   "metadata": {},
   "outputs": [
    {
     "name": "stdout",
     "output_type": "stream",
     "text": [
      "Merged DataFrame shape: (260920, 37)\n",
      "        batter   bowler                  venue   season  total_runs\n",
      "0   SC Ganguly  P Kumar  M Chinnaswamy Stadium  2007/08           1\n",
      "1  BB McCullum  P Kumar  M Chinnaswamy Stadium  2007/08           0\n",
      "2  BB McCullum  P Kumar  M Chinnaswamy Stadium  2007/08           1\n",
      "3  BB McCullum  P Kumar  M Chinnaswamy Stadium  2007/08           0\n",
      "4  BB McCullum  P Kumar  M Chinnaswamy Stadium  2007/08           0\n"
     ]
    }
   ],
   "source": [
    "df = deliveries.merge(matches, left_on='match_id', right_on='id', suffixes=('_del', '_mat'))\n",
    "print(\"Merged DataFrame shape:\", df.shape)\n",
    "print(df[['batter', 'bowler', 'venue', 'season', 'total_runs']].head())\n"
   ]
  },
  {
   "cell_type": "code",
   "execution_count": 5,
   "id": "141552a6",
   "metadata": {},
   "outputs": [],
   "source": [
    "def filter_data(season, team, venue):\n",
    "    d = df.copy()\n",
    "    if season != 'All':\n",
    "        d = d[d['season'].astype(str) == season]\n",
    "    if team != 'All':\n",
    "        d = d[(d['batting_team'] == team) | (d['bowling_team'] == team)]\n",
    "    if venue != 'All':\n",
    "        d = d[d['venue'] == venue]\n",
    "    return d\n"
   ]
  },
  {
   "cell_type": "code",
   "execution_count": 6,
   "id": "5336824b",
   "metadata": {},
   "outputs": [],
   "source": [
    "def show_summary(season, team, venue):\n",
    "    d = filter_data(season, team, venue)\n",
    "    if d.empty:\n",
    "        print(\"⚠️ No data for selected filters.\")\n",
    "        return\n",
    "    print(\"\\n📊 Summary Statistics:\")\n",
    "    print(f\"• Deliveries: {len(d)}\")\n",
    "    print(f\"• Matches: {d['match_id'].nunique()}\")\n",
    "    print(f\"• Total Runs: {d['total_runs'].sum()}\")\n",
    "    print(f\"• Mean Runs/Delivery: {d['total_runs'].mean():.2f}\")\n",
    "    print(f\"• Median Runs/Delivery: {d['total_runs'].median()}\\n\")\n"
   ]
  },
  {
   "cell_type": "code",
   "execution_count": 7,
   "id": "67d03c1c",
   "metadata": {},
   "outputs": [],
   "source": [
    "def show_visualizations(season, team, venue):\n",
    "    d = filter_data(season, team, venue)\n",
    "    if d.empty:\n",
    "        print(\"⚠️ No data to plot for selected filters.\")\n",
    "        return\n",
    "\n",
    "    fig, axes = plt.subplots(2, 2, figsize=(15, 12))\n",
    "    fig.suptitle(f\"Visuals: Season={season}, Team={team}, Venue={venue}\", fontsize=16)\n",
    "    plt.subplots_adjust(hspace=0.4, wspace=0.3)\n",
    "\n",
    "    # 1. Top 10 batters\n",
    "    top = d.groupby('batter')['batsman_runs'].sum().nlargest(10)\n",
    "    sns.barplot(x=top.values, y=top.index, ax=axes[0,0], palette='magma')\n",
    "    axes[0,0].set_title('Top 10 Batters (by Runs)')\n",
    "    axes[0,0].set_xlabel('Runs')\n",
    "\n",
    "    # 2. Dismissal types\n",
    "    dc = d['dismissal_kind'].value_counts()\n",
    "    axes[0,1].pie(dc, labels=dc.index, autopct='%1.1f%%', startangle=140, colors=sns.color_palette('pastel'))\n",
    "    axes[0,1].set_title('Dismissal Types')\n",
    "\n",
    "    # 3. Runs per over\n",
    "    roc = d.groupby('over')['total_runs'].sum()\n",
    "    axes[1,0].plot(roc.index, roc.values, marker='o', color='teal')\n",
    "    axes[1,0].set_title('Runs per Over')\n",
    "    axes[1,0].set_xlabel('Over')\n",
    "    axes[1,0].set_ylabel('Runs')\n",
    "\n",
    "    # 4. Blank/Optional\n",
    "    axes[1,1].axis('off')\n",
    "\n",
    "    plt.show()\n"
   ]
  },
  {
   "cell_type": "code",
   "execution_count": 8,
   "id": "1b26494e",
   "metadata": {},
   "outputs": [
    {
     "data": {
      "application/vnd.jupyter.widget-view+json": {
       "model_id": "de24fc7d6a08459d8c35365ceac649f3",
       "version_major": 2,
       "version_minor": 0
      },
      "text/plain": [
       "VBox(children=(Dropdown(description='Season:', options=('All', '2007/08', '2009', '2009/10', '2011', '2012', '…"
      ]
     },
     "metadata": {},
     "output_type": "display_data"
    },
    {
     "data": {
      "application/vnd.jupyter.widget-view+json": {
       "model_id": "8231ba8d0e024ca18508f8f2b8e83da8",
       "version_major": 2,
       "version_minor": 0
      },
      "text/plain": [
       "Output()"
      ]
     },
     "metadata": {},
     "output_type": "display_data"
    },
    {
     "data": {
      "application/vnd.jupyter.widget-view+json": {
       "model_id": "b479a30989034208aa8fd4b8b93afc16",
       "version_major": 2,
       "version_minor": 0
      },
      "text/plain": [
       "Output()"
      ]
     },
     "metadata": {},
     "output_type": "display_data"
    }
   ],
   "source": [
    "season_options = ['All'] + sorted(df['season'].astype(str).unique())\n",
    "team_options = ['All'] + sorted(df['batting_team'].unique())\n",
    "venue_options = ['All'] + sorted(df['venue'].unique())\n",
    "\n",
    "season_widget = widgets.Dropdown(options=season_options, description='Season:')\n",
    "team_widget = widgets.Dropdown(options=team_options, description='Team:')\n",
    "venue_widget = widgets.Dropdown(options=venue_options, description='Venue:')\n",
    "\n",
    "display(widgets.VBox([season_widget, team_widget, venue_widget]))\n",
    "\n",
    "out_s = widgets.Output()\n",
    "out_v = widgets.Output()\n",
    "\n",
    "def update_all(change):\n",
    "    with out_s:\n",
    "        clear_output(wait=True)\n",
    "        show_summary(season_widget.value, team_widget.value, venue_widget.value)\n",
    "    with out_v:\n",
    "        clear_output(wait=True)\n",
    "        show_visualizations(season_widget.value, team_widget.value, venue_widget.value)\n",
    "\n",
    "season_widget.observe(update_all, 'value')\n",
    "team_widget.observe(update_all, 'value')\n",
    "venue_widget.observe(update_all, 'value')\n",
    "\n",
    "display(out_s, out_v)\n",
    "update_all(None)\n"
   ]
  }
 ],
 "metadata": {
  "kernelspec": {
   "display_name": "Python 3",
   "language": "python",
   "name": "python3"
  },
  "language_info": {
   "codemirror_mode": {
    "name": "ipython",
    "version": 3
   },
   "file_extension": ".py",
   "mimetype": "text/x-python",
   "name": "python",
   "nbconvert_exporter": "python",
   "pygments_lexer": "ipython3",
   "version": "3.12.2"
  }
 },
 "nbformat": 4,
 "nbformat_minor": 5
}
